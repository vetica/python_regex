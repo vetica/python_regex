{
 "cells": [
  {
   "cell_type": "markdown",
   "metadata": {},
   "source": [
    "<h1><center>Rugular Expressions -> A Description of text</center></h1>"
   ]
  },
  {
   "cell_type": "markdown",
   "metadata": {},
   "source": [
    "### Imports"
   ]
  },
  {
   "cell_type": "code",
   "execution_count": null,
   "metadata": {},
   "outputs": [],
   "source": [
    "import IPython # Has some useful tools\n",
    "import re"
   ]
  },
  {
   "cell_type": "markdown",
   "metadata": {},
   "source": [
    "### First Let's talk about opening Files\n",
    "\n",
    "\n",
    "##### The \"normal\" way\n",
    "```python\n",
    "f = open('somefile.txt', 'r')\n",
    "file_text = f.read()\n",
    "f.close()\n",
    "print(f)\n",
    "```\n",
    "\n",
    "##### A Wiser way\n",
    "````python\n",
    "with open('somefile.txt, 'r') as f:\n",
    "          file_text = f.read()\n",
    "          print(file_text)\n",
    "```\n",
    "\n",
    "### Step 1: Describe what Character/s or Possible Character/s\n",
    "<iframe width=\"560\" height=\"315\" src=\"https://www.youtube.com/embed/sZyAn2TW7GY\" frameborder=\"0\" allow=\"accelerometer; autoplay; encrypted-media; gyroscope; picture-in-picture\" allowfullscreen></iframe>"
   ]
  },
  {
   "cell_type": "markdown",
   "metadata": {},
   "source": [
    "#### Specify the *literal character/s that could be here*"
   ]
  },
  {
   "cell_type": "markdown",
   "metadata": {},
   "source": [
    "| Pattern | Matches |\n",
    "| --- | --- |\n",
    "| r'a' | a |\n",
    "| r'ab' | ab |"
   ]
  },
  {
   "cell_type": "markdown",
   "metadata": {},
   "source": [
    "#### Specify that *anything from a SET of characters could be here*\n",
    "\n",
    "| Pattern | Matches |\n",
    "| --- | --- |\n",
    "| r'[abcd]' | *a or  b or c or d* |\n",
    "| r'[1-gL]' | *1 or - or g or L* |"
   ]
  },
  {
   "cell_type": "markdown",
   "metadata": {},
   "source": [
    "#### Specify that anything can be here except for the items in this set (NEGATION)\n",
    "\n",
    "| Pattern | Matches |\n",
    "| --- | --- |\n",
    "| r'[^abcd]' | *any character except a, b, c or d* |\n",
    "| r'[^1-gL]' | *any character except 1, -, g or L* |"
   ]
  },
  {
   "cell_type": "markdown",
   "metadata": {},
   "source": [
    "### Step 2: Specify the Count or Possible Counts of ot the Specified Characters\n",
    "\n",
    "\n",
    "| Pattern | Description |\n",
    "| ------- | ----------- |\n",
    "| \\w{3} | matches any three word characters in a row. |\n",
    "| \\w{,3} | matches 0, 1, 2, or 3 word characters in a row. |\n",
    "| \\w{3,} | matches 3 or more word characters in a row. There's no upper limit. |\n",
    "| \\w{3, 5} | matches 3, 4, or 5 word characters in a row. |\n",
    "| \\w? | matches 0 or 1 word characters. |\n",
    "| \\w* | matches 0 or more word characters. Since there is no upper limit, this is, effectively, infinite word characters. |\n",
    "| \\w+ | matches 1 or more word characters. Like *, it has no upper limit, but it has to occur at least once. |\n",
    "\n",
    "---"
   ]
  },
  {
   "cell_type": "markdown",
   "metadata": {},
   "source": [
    "### Regex Syntax: Anchors\n",
    "\n",
    "| Character | Description |\n",
    "| --------- | ----------- |\n",
    "| ^         | specifies, in a pattern, the beginning of the string. |\n",
    "| $         | specifies, in a pattern, the end of the string. |"
   ]
  },
  {
   "cell_type": "markdown",
   "metadata": {},
   "source": [
    "### Regex Syntax: Meta Characters\n",
    "\n",
    "\n",
    "| Symbol | Notes |\n",
    "| ------ | ----- |\n",
    "| ^ | Matches the beggining of the line and is used in negation |\n",
    "| $ | Matches end of the line |\n",
    "| *, +, ? |  Repetition Symbols |\n",
    "| { } | Repetitions |\n",
    "| [ ] | Sets  |\n",
    "| \\   | Yes, you'll have to cancel out your cancelouter |\n",
    "| |   | Used in Specifying alternates |\n",
    "| (  )| Used for groupings |"
   ]
  },
  {
   "cell_type": "markdown",
   "metadata": {},
   "source": [
    "### Special Sequences \n",
    "These are the most common not the entire list. \n",
    "[Here's the entire list](https://docs.python.org/3/library/re.html#re-syntax \"docs.python.org\")\n",
    "\n",
    "|Character | Description |\n",
    "| -------- | ----------- |\n",
    "| \\d | Matches any decimal digit; this is equivalent to the class [0-9]. | \n",
    "| \\D | Matches any non-digit character; this is equivalent to the class [^0-9]. |\n",
    "| \\s | Matches any whitespace character; this is equivalent to the class [ \\t\\n\\r\\f\\v]. |\n",
    "| \\S | Matches any non-whitespace character; this is equivalent to the class [^ \\t\\n\\r\\f\\v]. |\n",
    "| \\w | Matches any alphanumeric character; this is equivalent to the class [a-zA-Z0-9_]. |\n",
    "| \\W | Matches any non-alphanumeric character; this is equivalent to the class [^a-zA-Z0-9_]. |\n",
    "\n",
    "---"
   ]
  },
  {
   "cell_type": "markdown",
   "metadata": {},
   "source": [
    "<b><h1><center>Pt 2: The Python Implementation</center></h1></b>\n",
    "\n",
    "The regular expression language is a anguage of its own similar to SQL. Most programming languages will have a regex package built in and you benefit from reasonable consistency across languages.\n",
    "\n",
    "*However*, in order to use regular expressions, you need to work with the functions, classes, methods etc. that the host language offers for interfacing with the regex engine.\n",
    "\n",
    "### Most Common Used\n",
    "\n",
    "| Method/Attribute | Purpose |\n",
    "| ---------------- | ------- |\n",
    "| match()\t       | Determine if the RE matches at the beginning of the string. |\n",
    "| search()         | Scan through a string, looking for any location where this RE matches. |\n",
    "| findall()\t       | Find all substrings where the RE matches, and returns them as a list. |\n",
    "| finditer()       | Find all substrings where the RE matches, and returns them as an iterator. |"
   ]
  },
  {
   "cell_type": "markdown",
   "metadata": {},
   "source": [
    "### Match Objects\n",
    "\n",
    "match() and search() return an object that has it's own set of attributes and methods to work with\n",
    "\n",
    "| Method/Attribute | Purpose |\n",
    "| ---------------- | ------- |\n",
    "| group() | Return the string matched by the RE |\n",
    "| start() | Return the starting position of the match |\n",
    "| end()\t  | Return the ending position of the match |\n",
    "| span()  | Return a tuple containing the (start, end) positions of the match |"
   ]
  },
  {
   "cell_type": "markdown",
   "metadata": {},
   "source": [
    "### Compiling Regular Expressions\n",
    "\n",
    "You can speed up regular expression operation if you do one step done ahead of time.\n",
    "\n",
    "It also lets you name a variable and use dot notation to call .search(), .match() \n",
    "Again, use dir\n",
    "\n",
    "#### Some functions do not need explicit compilation\n",
    "```python\n",
    "# These for example do not\n",
    "re.search(r'[abc]', 'apple')\n",
    "re.match(r'[abc]', 'apple')\n",
    "```\n",
    "*They are \"Module-Level Functions\"*"
   ]
  },
  {
   "cell_type": "markdown",
   "metadata": {},
   "source": [
    "```python\n",
    "p = re.compile('[a-z]+')\n",
    "```"
   ]
  },
  {
   "cell_type": "code",
   "execution_count": 9,
   "metadata": {},
   "outputs": [
    {
     "name": "stdout",
     "output_type": "stream",
     "text": [
      "--------------------------------------------------\n",
      "    1 calls in    0.217 ms - compiled_once\n",
      "    1 calls in    0.186 ms - compiled_every_call\n",
      "    1 calls in    0.283 ms - uncompiled\n",
      "--------------------------------------------------\n",
      "    2 calls in    0.257 ms - compiled_once\n",
      "    2 calls in    0.498 ms - compiled_every_call\n",
      "    2 calls in    0.181 ms - uncompiled\n",
      "--------------------------------------------------\n",
      "    3 calls in    0.143 ms - compiled_once\n",
      "    3 calls in    0.093 ms - compiled_every_call\n",
      "    3 calls in    0.083 ms - uncompiled\n",
      "--------------------------------------------------\n",
      "    4 calls in    0.078 ms - compiled_once\n",
      "    4 calls in    0.080 ms - compiled_every_call\n",
      "    4 calls in    0.079 ms - uncompiled\n",
      "--------------------------------------------------\n",
      "    5 calls in    0.082 ms - compiled_once\n",
      "    5 calls in    0.080 ms - compiled_every_call\n",
      "    5 calls in    0.164 ms - uncompiled\n",
      "--------------------------------------------------\n",
      "    6 calls in    0.093 ms - compiled_once\n",
      "    6 calls in    0.134 ms - compiled_every_call\n",
      "    6 calls in    0.152 ms - uncompiled\n",
      "--------------------------------------------------\n",
      "    7 calls in    0.101 ms - compiled_once\n",
      "    7 calls in    0.091 ms - compiled_every_call\n",
      "    7 calls in    0.088 ms - uncompiled\n",
      "--------------------------------------------------\n",
      "    8 calls in    0.085 ms - compiled_once\n",
      "    8 calls in    0.086 ms - compiled_every_call\n",
      "    8 calls in    0.162 ms - uncompiled\n",
      "--------------------------------------------------\n",
      "    9 calls in    0.083 ms - compiled_once\n",
      "    9 calls in    0.088 ms - compiled_every_call\n",
      "    9 calls in    0.092 ms - uncompiled\n",
      "--------------------------------------------------\n",
      "   10 calls in    0.086 ms - compiled_once\n",
      "   10 calls in    0.095 ms - compiled_every_call\n",
      "   10 calls in    0.094 ms - uncompiled\n",
      "--------------------------------------------------\n",
      "   10 calls in    0.015 ms - compiled_once\n",
      "   10 calls in    0.022 ms - compiled_every_call\n",
      "   10 calls in    0.022 ms - uncompiled\n",
      "--------------------------------------------------\n",
      "   20 calls in    0.120 ms - compiled_once\n",
      "   20 calls in    0.115 ms - compiled_every_call\n",
      "   20 calls in    0.143 ms - uncompiled\n",
      "--------------------------------------------------\n",
      "   30 calls in    0.189 ms - compiled_once\n",
      "   30 calls in    0.233 ms - compiled_every_call\n",
      "   30 calls in    0.169 ms - uncompiled\n",
      "--------------------------------------------------\n",
      "   40 calls in    0.137 ms - compiled_once\n",
      "   40 calls in    0.163 ms - compiled_every_call\n",
      "   40 calls in    0.216 ms - uncompiled\n",
      "--------------------------------------------------\n",
      "   50 calls in    0.211 ms - compiled_once\n",
      "   50 calls in    0.457 ms - compiled_every_call\n",
      "   50 calls in    0.250 ms - uncompiled\n",
      "--------------------------------------------------\n",
      "   60 calls in    0.147 ms - compiled_once\n",
      "   60 calls in    0.187 ms - compiled_every_call\n",
      "   60 calls in    0.187 ms - uncompiled\n",
      "--------------------------------------------------\n",
      "   70 calls in    0.144 ms - compiled_once\n",
      "   70 calls in    0.244 ms - compiled_every_call\n",
      "   70 calls in    0.367 ms - uncompiled\n",
      "--------------------------------------------------\n",
      "   80 calls in    0.252 ms - compiled_once\n",
      "   80 calls in    0.263 ms - compiled_every_call\n",
      "   80 calls in    0.229 ms - uncompiled\n",
      "--------------------------------------------------\n",
      "   90 calls in    0.175 ms - compiled_once\n",
      "   90 calls in    0.239 ms - compiled_every_call\n",
      "   90 calls in    0.240 ms - uncompiled\n",
      "--------------------------------------------------\n",
      "  100 calls in    0.175 ms - compiled_once\n",
      "  100 calls in    0.262 ms - compiled_every_call\n",
      "  100 calls in    0.328 ms - uncompiled\n",
      "--------------------------------------------------\n",
      "  100 calls in    0.343 ms - compiled_once\n",
      "  100 calls in    0.406 ms - compiled_every_call\n",
      "  100 calls in    1.234 ms - uncompiled\n",
      "--------------------------------------------------\n",
      "  200 calls in    0.546 ms - compiled_once\n",
      "  200 calls in    1.002 ms - compiled_every_call\n",
      "  200 calls in    0.715 ms - uncompiled\n",
      "--------------------------------------------------\n",
      "  300 calls in    0.412 ms - compiled_once\n",
      "  300 calls in    0.620 ms - compiled_every_call\n",
      "  300 calls in    0.612 ms - uncompiled\n",
      "--------------------------------------------------\n",
      "  400 calls in    0.475 ms - compiled_once\n",
      "  400 calls in    0.841 ms - compiled_every_call\n",
      "  400 calls in    1.338 ms - uncompiled\n",
      "--------------------------------------------------\n",
      "  500 calls in    0.613 ms - compiled_once\n",
      "  500 calls in    1.009 ms - compiled_every_call\n",
      "  500 calls in    0.991 ms - uncompiled\n",
      "--------------------------------------------------\n",
      "  600 calls in    0.674 ms - compiled_once\n",
      "  600 calls in    1.188 ms - compiled_every_call\n",
      "  600 calls in    4.109 ms - uncompiled\n",
      "--------------------------------------------------\n",
      "  700 calls in    1.814 ms - compiled_once\n",
      "  700 calls in    2.038 ms - compiled_every_call\n",
      "  700 calls in    1.573 ms - uncompiled\n",
      "--------------------------------------------------\n",
      "  800 calls in    1.246 ms - compiled_once\n",
      "  800 calls in    1.567 ms - compiled_every_call\n",
      "  800 calls in    1.510 ms - uncompiled\n",
      "--------------------------------------------------\n",
      "  900 calls in    1.560 ms - compiled_once\n",
      "  900 calls in    3.097 ms - compiled_every_call\n",
      "  900 calls in    1.873 ms - uncompiled\n",
      "--------------------------------------------------\n",
      " 1000 calls in    1.081 ms - compiled_once\n",
      " 1000 calls in    2.561 ms - compiled_every_call\n",
      " 1000 calls in    1.923 ms - uncompiled\n",
      "--------------------------------------------------\n",
      " 1000 calls in    0.980 ms - compiled_once\n",
      " 1000 calls in    4.796 ms - compiled_every_call\n",
      " 1000 calls in    2.435 ms - uncompiled\n",
      "--------------------------------------------------\n",
      " 2000 calls in    2.098 ms - compiled_once\n",
      " 2000 calls in    4.249 ms - compiled_every_call\n",
      " 2000 calls in    8.221 ms - uncompiled\n",
      "--------------------------------------------------\n",
      " 3000 calls in    4.773 ms - compiled_once\n",
      " 3000 calls in    6.648 ms - compiled_every_call\n",
      " 3000 calls in    7.411 ms - uncompiled\n",
      "--------------------------------------------------\n",
      " 4000 calls in    4.630 ms - compiled_once\n",
      " 4000 calls in    9.643 ms - compiled_every_call\n",
      " 4000 calls in    8.135 ms - uncompiled\n",
      "--------------------------------------------------\n",
      " 5000 calls in    5.995 ms - compiled_once\n",
      " 5000 calls in    9.453 ms - compiled_every_call\n",
      " 5000 calls in   11.205 ms - uncompiled\n",
      "--------------------------------------------------\n",
      " 6000 calls in    6.580 ms - compiled_once\n",
      " 6000 calls in   13.625 ms - compiled_every_call\n",
      " 6000 calls in   12.015 ms - uncompiled\n",
      "--------------------------------------------------\n",
      " 7000 calls in    7.639 ms - compiled_once\n",
      " 7000 calls in   12.896 ms - compiled_every_call\n",
      " 7000 calls in   13.136 ms - uncompiled\n",
      "--------------------------------------------------\n",
      " 8000 calls in    8.391 ms - compiled_once\n",
      " 8000 calls in   14.720 ms - compiled_every_call\n",
      " 8000 calls in   14.686 ms - uncompiled\n",
      "--------------------------------------------------\n",
      " 9000 calls in    9.136 ms - compiled_once\n",
      " 9000 calls in   17.581 ms - compiled_every_call\n",
      " 9000 calls in   20.662 ms - uncompiled\n",
      "--------------------------------------------------\n",
      "10000 calls in   12.652 ms - compiled_once\n",
      "10000 calls in   28.070 ms - compiled_every_call\n",
      "10000 calls in   20.411 ms - uncompiled\n",
      "--------------------------------------------------\n",
      "10000 calls in   10.472 ms - compiled_once\n",
      "10000 calls in   18.318 ms - compiled_every_call\n",
      "10000 calls in   22.956 ms - uncompiled\n",
      "--------------------------------------------------\n",
      "20000 calls in   27.936 ms - compiled_once\n",
      "20000 calls in   38.038 ms - compiled_every_call\n",
      "20000 calls in   45.606 ms - uncompiled\n",
      "--------------------------------------------------\n",
      "30000 calls in   32.880 ms - compiled_once\n",
      "30000 calls in   54.818 ms - compiled_every_call\n",
      "30000 calls in   61.959 ms - uncompiled\n",
      "--------------------------------------------------\n",
      "40000 calls in   42.900 ms - compiled_once\n",
      "40000 calls in   98.786 ms - compiled_every_call\n",
      "40000 calls in   90.309 ms - uncompiled\n",
      "--------------------------------------------------\n",
      "50000 calls in   67.718 ms - compiled_once\n",
      "50000 calls in  118.416 ms - compiled_every_call\n",
      "50000 calls in   92.909 ms - uncompiled\n",
      "--------------------------------------------------\n"
     ]
    },
    {
     "name": "stdout",
     "output_type": "stream",
     "text": [
      "60000 calls in   83.532 ms - compiled_once\n",
      "60000 calls in  130.598 ms - compiled_every_call\n",
      "60000 calls in  114.829 ms - uncompiled\n",
      "--------------------------------------------------\n",
      "70000 calls in   76.574 ms - compiled_once\n",
      "70000 calls in  142.957 ms - compiled_every_call\n",
      "70000 calls in  154.298 ms - uncompiled\n",
      "--------------------------------------------------\n",
      "80000 calls in   84.822 ms - compiled_once\n",
      "80000 calls in  191.840 ms - compiled_every_call\n",
      "80000 calls in  161.248 ms - uncompiled\n",
      "--------------------------------------------------\n",
      "90000 calls in   95.475 ms - compiled_once\n",
      "90000 calls in  272.114 ms - compiled_every_call\n",
      "90000 calls in  296.803 ms - uncompiled\n",
      "--------------------------------------------------\n",
      "100000 calls in  111.277 ms - compiled_once\n",
      "100000 calls in  197.251 ms - compiled_every_call\n",
      "100000 calls in  187.325 ms - uncompiled\n",
      "--------------------------------------------------\n",
      "100000 calls in  107.223 ms - compiled_once\n",
      "100000 calls in  192.875 ms - compiled_every_call\n",
      "100000 calls in  205.567 ms - uncompiled\n",
      "--------------------------------------------------\n",
      "200000 calls in  285.977 ms - compiled_once\n",
      "200000 calls in  496.222 ms - compiled_every_call\n",
      "200000 calls in  390.826 ms - uncompiled\n",
      "--------------------------------------------------\n",
      "300000 calls in  311.131 ms - compiled_once\n",
      "300000 calls in  568.702 ms - compiled_every_call\n",
      "300000 calls in  563.530 ms - uncompiled\n",
      "--------------------------------------------------\n",
      "400000 calls in  425.141 ms - compiled_once\n",
      "400000 calls in  764.289 ms - compiled_every_call\n",
      "400000 calls in  770.056 ms - uncompiled\n",
      "--------------------------------------------------\n",
      "500000 calls in  638.865 ms - compiled_once\n",
      "500000 calls in  1021.798 ms - compiled_every_call\n",
      "500000 calls in  1385.867 ms - uncompiled\n",
      "--------------------------------------------------\n",
      "600000 calls in  641.336 ms - compiled_once\n",
      "600000 calls in  1146.172 ms - compiled_every_call\n",
      "600000 calls in  1156.271 ms - uncompiled\n",
      "--------------------------------------------------\n",
      "700000 calls in  877.917 ms - compiled_once\n",
      "700000 calls in  1536.291 ms - compiled_every_call\n",
      "700000 calls in  1557.966 ms - uncompiled\n",
      "--------------------------------------------------\n",
      "800000 calls in  847.280 ms - compiled_once\n",
      "800000 calls in  1660.753 ms - compiled_every_call\n",
      "800000 calls in  1717.123 ms - uncompiled\n",
      "--------------------------------------------------\n",
      "900000 calls in  1075.719 ms - compiled_once\n",
      "900000 calls in  1965.766 ms - compiled_every_call\n",
      "900000 calls in  1785.685 ms - uncompiled\n",
      "--------------------------------------------------\n",
      "1000000 calls in  1125.710 ms - compiled_once\n",
      "1000000 calls in  1945.816 ms - compiled_every_call\n",
      "1000000 calls in  1941.903 ms - uncompiled\n",
      "--------------------------------------------------\n"
     ]
    }
   ],
   "source": [
    "import time, re\n",
    " \n",
    "text1 = '<h1>match me</h1>'\n",
    "regex1= '<h1>(.*?)</h1>'\n",
    " \n",
    "text2 = '<h2>match me</h2>'\n",
    "regex2= '<h2>(.*?)</h2>'\n",
    " \n",
    "text3 = '<h3>match me</h3>'\n",
    "regex3= '<h3>(.*?)</h3>'\n",
    " \n",
    "re_flags = re.IGNORECASE|re.MULTILINE|re.DOTALL|re.UNICODE\n",
    "arr =[]\n",
    "for (step,max_iterations) in [(1,10), (10,100),(100,1000),(1000,10000)]: #,(10000,100000),(100000,1000000)]:\n",
    "    arr += [num for num in range (step, max_iterations + step, step)]\n",
    " \n",
    "for max in arr:\n",
    "    print('-'*50)\n",
    "    t1 = time.time()\n",
    "    re_compiled = re.compile(regex1+str(max), re_flags) # pre-compiling and storing regex\n",
    "    for _ in range(0, max):\n",
    "        re_compiled.findall(text1+str(max)+' '+str(_))\n",
    "    t2 = time.time()\n",
    "    print(\"%5i calls in % 8.3f ms - compiled_once\"%(max, (t2-t1)*1000.0) )\n",
    " \n",
    "    t3 = time.time()\n",
    "    regex2_max = regex2+str(max) # doing this here to avoid costs of string concatation in a loop\n",
    "    for _ in range(0, max):\n",
    "        re.compile(regex2_max, re_flags).findall(text2+str(max)+' '+str(_))\n",
    "    t4 = time.time()\n",
    "    print(\"%5i calls in % 8.3f ms - compiled_every_call\"%(max, (t4-t3)*1000.0) )\n",
    " \n",
    "    t5 = time.time()\n",
    "    regex3_max = regex3+str(max)# doing this here to avoid costs of string concatation in a loop\n",
    "    for _ in range(0, max):\n",
    "        re.findall(regex3_max, text3+str(max)+' '+str(_), re_flags)\n",
    "    t6 = time.time()\n",
    "    print(\"%5i calls in % 8.3f ms - uncompiled\"%(max, (t6-t5)*1000.0) )\n",
    "print('-'*50)"
   ]
  },
  {
   "cell_type": "markdown",
   "metadata": {},
   "source": [
    "### Flags\n",
    "\n",
    "Compilation flags let you modify some aspects of how regular expressions work. Flags are available in the re module under two names, a long name such as IGNORECASE and a short, one-letter form such as I. (If you’re familiar with Perl’s pattern modifiers, the one-letter forms use the same letters; the short form of re.VERBOSE is re.X, for example.) Multiple flags can be specified by bitwise OR-ing them; re.I | re.M sets both the I and M flags, for example.\n",
    "\n",
    "Here’s a table of the available flags, followed by a more detailed explanation of each one.\n",
    "\n",
    "| Flag | Meaning |\n",
    "| ---- | ------- |\n",
    "| ASCII, A | Makes several escapes like \\w, \\b, \\s and \\d match only on ASCII characters with the respective property.|\n",
    "| DOTALL, S | Make . match any character, including newlines. |\n",
    "| IGNORECASE, I | Do case-insensitive matches. |\n",
    "| LOCALE, L | Do a locale-aware match. | \n",
    "| MULTILINE, M | Multi-line matching, affecting ^ and $. |\n",
    "| VERBOSE, X (for ‘extended’) | Enable verbose REs, which can be organized more cleanly and understandably. |"
   ]
  },
  {
   "cell_type": "markdown",
   "metadata": {},
   "source": [
    "---"
   ]
  },
  {
   "cell_type": "markdown",
   "metadata": {},
   "source": [
    "<h1><center>Code Demos</center></h1>"
   ]
  },
  {
   "cell_type": "markdown",
   "metadata": {},
   "source": [
    "### search()/match() "
   ]
  },
  {
   "cell_type": "code",
   "execution_count": 58,
   "metadata": {},
   "outputs": [
    {
     "name": "stdout",
     "output_type": "stream",
     "text": [
      "pattern found inside the string\n"
     ]
    }
   ],
   "source": [
    "string = \"Python is fun\"\n",
    "\n",
    "# check if 'Python' is at the beginning\n",
    "match = re.search('\\APython', string)\n",
    "\n",
    "if match:\n",
    "  print(\"pattern found inside the string\")\n",
    "else:\n",
    "  print(\"pattern not found\")  \n"
   ]
  },
  {
   "cell_type": "code",
   "execution_count": 47,
   "metadata": {},
   "outputs": [
    {
     "name": "stdout",
     "output_type": "stream",
     "text": [
      "801 35\n"
     ]
    }
   ],
   "source": [
    "string = '39801 356, 2102 1111'\n",
    "\n",
    "# Three digit number followed by space followed by two digit number\n",
    "pattern = '(\\d{3}) (\\d{2})'\n",
    "\n",
    "# match variable contains a Match object.\n",
    "match = re.search(pattern, string) \n",
    "\n",
    "if match:\n",
    "  print(match.group())\n",
    "else:\n",
    "  print(\"pattern not found\")\n"
   ]
  },
  {
   "cell_type": "code",
   "execution_count": 38,
   "metadata": {},
   "outputs": [
    {
     "data": {
      "text/plain": [
       "'801'"
      ]
     },
     "execution_count": 38,
     "metadata": {},
     "output_type": "execute_result"
    }
   ],
   "source": [
    "match.group(1)"
   ]
  },
  {
   "cell_type": "code",
   "execution_count": 39,
   "metadata": {},
   "outputs": [
    {
     "data": {
      "text/plain": [
       "'35'"
      ]
     },
     "execution_count": 39,
     "metadata": {},
     "output_type": "execute_result"
    }
   ],
   "source": [
    "match.group(2)"
   ]
  },
  {
   "cell_type": "code",
   "execution_count": 40,
   "metadata": {},
   "outputs": [
    {
     "data": {
      "text/plain": [
       "('801', '35')"
      ]
     },
     "execution_count": 40,
     "metadata": {},
     "output_type": "execute_result"
    }
   ],
   "source": [
    "match.group(1, 2)"
   ]
  },
  {
   "cell_type": "code",
   "execution_count": 41,
   "metadata": {},
   "outputs": [
    {
     "data": {
      "text/plain": [
       "('801', '35')"
      ]
     },
     "execution_count": 41,
     "metadata": {},
     "output_type": "execute_result"
    }
   ],
   "source": [
    "match.groups()"
   ]
  },
  {
   "cell_type": "code",
   "execution_count": 42,
   "metadata": {},
   "outputs": [
    {
     "data": {
      "text/plain": [
       "2"
      ]
     },
     "execution_count": 42,
     "metadata": {},
     "output_type": "execute_result"
    }
   ],
   "source": [
    "match.start()"
   ]
  },
  {
   "cell_type": "code",
   "execution_count": 48,
   "metadata": {},
   "outputs": [
    {
     "data": {
      "text/plain": [
       "(2, 8)"
      ]
     },
     "execution_count": 48,
     "metadata": {},
     "output_type": "execute_result"
    }
   ],
   "source": [
    "match.span()"
   ]
  },
  {
   "cell_type": "code",
   "execution_count": 49,
   "metadata": {},
   "outputs": [
    {
     "data": {
      "text/plain": [
       "re.compile(r'(\\d{3}) (\\d{2})', re.UNICODE)"
      ]
     },
     "execution_count": 49,
     "metadata": {},
     "output_type": "execute_result"
    }
   ],
   "source": [
    "match.re"
   ]
  },
  {
   "cell_type": "code",
   "execution_count": 50,
   "metadata": {},
   "outputs": [
    {
     "data": {
      "text/plain": [
       "'39801 356, 2102 1111'"
      ]
     },
     "execution_count": 50,
     "metadata": {},
     "output_type": "execute_result"
    }
   ],
   "source": [
    "match.string"
   ]
  },
  {
   "cell_type": "markdown",
   "metadata": {},
   "source": [
    "### Splitting Strings"
   ]
  },
  {
   "cell_type": "code",
   "execution_count": 52,
   "metadata": {},
   "outputs": [
    {
     "name": "stdout",
     "output_type": "stream",
     "text": [
      "['Twelve:', ' Eighty nine:', '.']\n"
     ]
    }
   ],
   "source": [
    "import re\n",
    "\n",
    "string = 'Twelve:12 Eighty nine:89.'\n",
    "pattern = '\\d+'\n",
    "\n",
    "result = re.split(pattern, string) \n",
    "print(result)\n",
    "\n",
    "# Output: ['Twelve:', ' Eighty nine:', '.']"
   ]
  },
  {
   "cell_type": "code",
   "execution_count": 3,
   "metadata": {},
   "outputs": [
    {
     "data": {
      "text/plain": [
       "['Twelve:', ' Eighty nine:89 Nine:9.']"
      ]
     },
     "execution_count": 3,
     "metadata": {},
     "output_type": "execute_result"
    }
   ],
   "source": [
    "string = 'Twelve:12 Eighty nine:89 Nine:9.'\n",
    "pattern = '\\d+'\n",
    "\n",
    "# maxsplit = 1\n",
    "# split only at the first occurrence\n",
    "result = re.split(pattern, string, 1) \n",
    "result"
   ]
  },
  {
   "cell_type": "markdown",
   "metadata": {},
   "source": [
    "### Substitution"
   ]
  },
  {
   "cell_type": "code",
   "execution_count": 32,
   "metadata": {},
   "outputs": [
    {
     "data": {
      "text/plain": [
       "'Twelve: Eighty nine: Nine:.'"
      ]
     },
     "execution_count": 32,
     "metadata": {},
     "output_type": "execute_result"
    }
   ],
   "source": [
    "re.sub(pattern, replace, string)"
   ]
  },
  {
   "cell_type": "code",
   "execution_count": 55,
   "metadata": {},
   "outputs": [
    {
     "data": {
      "text/plain": [
       "'abc12de23f456'"
      ]
     },
     "execution_count": 55,
     "metadata": {},
     "output_type": "execute_result"
    }
   ],
   "source": [
    "# multiline string\n",
    "string = 'abc 12\\\n",
    "de 23 \\n f45 6'\n",
    "\n",
    "# matches all whitespace characters\n",
    "pattern = '\\s+'\n",
    "\n",
    "# empty string\n",
    "replace = ''\n",
    "\n",
    "new_string = re.sub(pattern, replace, string) \n",
    "new_string"
   ]
  },
  {
   "cell_type": "code",
   "execution_count": 56,
   "metadata": {},
   "outputs": [
    {
     "data": {
      "text/plain": [
       "'abc12de 23 \\n f45 6'"
      ]
     },
     "execution_count": 56,
     "metadata": {},
     "output_type": "execute_result"
    }
   ],
   "source": [
    "# multiline string\n",
    "string = 'abc 12\\\n",
    "de 23 \\n f45 6'\n",
    "\n",
    "# matches all whitespace characters\n",
    "pattern = '\\s+'\n",
    "replace = ''\n",
    "\n",
    "new_string = re.sub(r'\\s+', replace, string, 1) \n",
    "new_string"
   ]
  },
  {
   "cell_type": "code",
   "execution_count": 35,
   "metadata": {},
   "outputs": [
    {
     "data": {
      "text/plain": [
       "('abc12de23f456', 4)"
      ]
     },
     "execution_count": 35,
     "metadata": {},
     "output_type": "execute_result"
    }
   ],
   "source": [
    "# multiline string\n",
    "string = 'abc 12\\\n",
    "de 23 \\n f45 6'\n",
    "\n",
    "# matches all whitespace characters\n",
    "pattern = '\\s+'\n",
    "\n",
    "# empty string\n",
    "replace = ''\n",
    "\n",
    "new_string = re.subn(pattern, replace, string) \n",
    "\n",
    "new_string"
   ]
  },
  {
   "cell_type": "code",
   "execution_count": 51,
   "metadata": {},
   "outputs": [
    {
     "name": "stdout",
     "output_type": "stream",
     "text": [
      "['\\n', '\\r']\n"
     ]
    }
   ],
   "source": [
    "string = '\\n and \\r are escape sequences.'\n",
    "\n",
    "result = re.findall(r'[\\n\\r]', string) \n",
    "print(result)"
   ]
  },
  {
   "cell_type": "markdown",
   "metadata": {},
   "source": [
    "## Sets\n",
    "```\n",
    "[abc]\n",
    "```"
   ]
  },
  {
   "cell_type": "markdown",
   "metadata": {},
   "source": [
    "### Negation\n",
    "```\n",
    "[^abc]\n",
    "```"
   ]
  },
  {
   "cell_type": "markdown",
   "metadata": {},
   "source": [
    "### Flags\n",
    "```\n",
    "re.IGNORECASE or re.I\n",
    "re.VERBOSE or re.X\n",
    "```"
   ]
  },
  {
   "cell_type": "markdown",
   "metadata": {},
   "source": [
    "### Using Groups"
   ]
  },
  {
   "cell_type": "markdown",
   "metadata": {},
   "source": [
    "| Entity | Description |\n",
    "| ------ | ----------- |\n",
    "| ([abc]) | creates a group that contains a set for the letters 'a', 'b', and 'c'. This could be later accessed from the Match object as .group(1) |\n",
    "|(?P<name>[abc]) | creates a named group that contains a set for the letters 'a', 'b', and 'c'. This could later be accessed from the Match object as .group('name'). |\n",
    "| .groups() | method to show all of the groups on a Match object. |\n",
    "| re.MULTILINE or re.M | flag to make a pattern regard lines in your text as the beginning or end of a string. |\n"
   ]
  },
  {
   "cell_type": "code",
   "execution_count": 11,
   "metadata": {},
   "outputs": [
    {
     "data": {
      "text/plain": [
       "<re.Match object; span=(0, 17), match='Love, Kenneth: 20'>"
      ]
     },
     "execution_count": 11,
     "metadata": {},
     "output_type": "execute_result"
    }
   ],
   "source": [
    "string = '''Love, Kenneth: 20\n",
    "Chalkley, Andrew: 25\n",
    "McFarland, Dave: 10\n",
    "Kesten, Joy: 22\n",
    "Stewart Pinchback, Pinckney Benton: 18'''\n",
    "\n",
    "players = re.search(r'''\n",
    "  (?P<last_name>[\\w ]*)\n",
    "  ,\\s\n",
    "  (?P<first_name>[\\w ]*)\n",
    "  :\\s\n",
    "  (?P<score>[\\d]*)\n",
    "''', string, re.X | re.M)\n",
    "players"
   ]
  },
  {
   "cell_type": "markdown",
   "metadata": {},
   "source": [
    "### Unfinished Examples"
   ]
  },
  {
   "cell_type": "code",
   "execution_count": 13,
   "metadata": {
    "scrolled": true
   },
   "outputs": [
    {
     "ename": "NameError",
     "evalue": "name 'files' is not defined",
     "output_type": "error",
     "traceback": [
      "\u001b[0;31m---------------------------------------------------------------------------\u001b[0m",
      "\u001b[0;31mNameError\u001b[0m                                 Traceback (most recent call last)",
      "\u001b[0;32m<ipython-input-13-df480f21cc26>\u001b[0m in \u001b[0;36m<module>\u001b[0;34m\u001b[0m\n\u001b[0;32m----> 1\u001b[0;31m \u001b[0mresult\u001b[0m \u001b[0;34m=\u001b[0m \u001b[0;34m[\u001b[0m\u001b[0mf\u001b[0m \u001b[0;32mfor\u001b[0m \u001b[0mf\u001b[0m \u001b[0;32min\u001b[0m \u001b[0mfiles\u001b[0m \u001b[0;32mif\u001b[0m \u001b[0mre\u001b[0m\u001b[0;34m.\u001b[0m\u001b[0msearch\u001b[0m\u001b[0;34m(\u001b[0m\u001b[0;34mr'_\\d{2}\\.csv$'\u001b[0m\u001b[0;34m,\u001b[0m \u001b[0mf\u001b[0m\u001b[0;34m)\u001b[0m\u001b[0;34m]\u001b[0m\u001b[0;34m\u001b[0m\u001b[0;34m\u001b[0m\u001b[0m\n\u001b[0m",
      "\u001b[0;31mNameError\u001b[0m: name 'files' is not defined"
     ]
    }
   ],
   "source": [
    "result = [f for f in files if re.search(r'_\\d{2}\\.csv$', f)] "
   ]
  },
  {
   "cell_type": "code",
   "execution_count": 15,
   "metadata": {},
   "outputs": [
    {
     "name": "stdout",
     "output_type": "stream",
     "text": [
      "['', '', '', '', '', '', '', '', '', '', '', '', '', '', '', '', '', '', '', '', '', '', '', '', '', '', '', '', '', '', '', '', '', '', '', '', '', '', '', '', '', '', '', '', '', '', '', '', '', '', '', '', '', '', '', '', '', '', '', '', '', '', '', '', '', '', '', '', '', '', '', '', '', '', '', '', '', '', '', '', '', '', '', '', '', '', '', '', '', '', '', '', '', '', '', '', '', '', '', '', '', '', '', '', '', '', '', '', '', '', '', '', '', '']\n",
      "Looavul\n",
      "Luhvul\n",
      "Loueville\n",
      "Spam\n",
      "Looaville\n",
      "Looeyville\n"
     ]
    }
   ],
   "source": [
    "import re\n",
    "\n",
    "spellings_list = [\n",
    "    \"Looavul\",\n",
    "    \"Luhvul\",\n",
    "    \"Loueville\",\n",
    "    \"Spam\",\n",
    "    \"Looaville\",\n",
    "    \"Looeyville\"]\n",
    "\n",
    "spellings_string = \"LooavulLuhvulLouevilleSpamLooavilleLooeyville\"\n",
    "pattern = r''\n",
    "\n",
    "# Program to extract numbers from a string\n",
    "result = re.findall(pattern, string) \n",
    "print(result)\n",
    "\n",
    "# Program to extract numbers from the list\n",
    "for i in spellings_list:\n",
    "    if re.match(r'', i):\n",
    "        print(i)"
   ]
  },
  {
   "cell_type": "markdown",
   "metadata": {},
   "source": [
    "<h1><center>Random Things to Know</center></h1>"
   ]
  },
  {
   "cell_type": "markdown",
   "metadata": {},
   "source": [
    "* You don't need to know about all of the characters or all of the ways of doing one thing\n",
    "I like to generally trend towards useing features that are the most consistent. [For instance the popular UNIX stream editing tool sed does not use \\d but I can use [0-9] for both](https://www.gnu.org/software/sed/manual/html_node/Regular-Expressions.html \"Sed Command Syntax Page\")\n",
    "\n"
   ]
  },
  {
   "cell_type": "markdown",
   "metadata": {},
   "source": [
    "<h1><center>References</center></h1>"
   ]
  },
  {
   "cell_type": "markdown",
   "metadata": {},
   "source": [
    "* https://www.programiz.com/python-programming/regex#python-regex\n",
    "* https://www.gnu.org/software/sed/manual/html_node/Regular-Expressions.html"
   ]
  },
  {
   "cell_type": "code",
   "execution_count": 2,
   "metadata": {},
   "outputs": [
    {
     "data": {
      "image/jpeg": "[encoded data removed]",
      "text/html": [
       "\n",
       "        <iframe\n",
       "            width=\"400\"\n",
       "            height=\"300\"\n",
       "            src=\"https://www.youtube.com/embed/sZyAn2TW7GY\"\n",
       "            frameborder=\"0\"\n",
       "            allowfullscreen\n",
       "        ></iframe>\n",
       "        "
      ],
      "text/plain": [
       "<IPython.lib.display.YouTubeVideo at 0x1c924a117b8>"
      ]
     },
     "execution_count": 2,
     "metadata": {},
     "output_type": "execute_result"
    }
   ],
   "source": [
    "IPython.display.YouTubeVideo(\"sZyAn2TW7GY\")"
   ]
  }
 ],
 "metadata": {
  "kernelspec": {
   "display_name": "Python 3",
   "language": "python",
   "name": "python3"
  },
  "language_info": {
   "codemirror_mode": {
    "name": "ipython",
    "version": 3
   },
   "file_extension": ".py",
   "mimetype": "text/x-python",
   "name": "python",
   "nbconvert_exporter": "python",
   "pygments_lexer": "ipython3",
   "version": "3.7.1"
  }
 },
 "nbformat": 4,
 "nbformat_minor": 2
}
